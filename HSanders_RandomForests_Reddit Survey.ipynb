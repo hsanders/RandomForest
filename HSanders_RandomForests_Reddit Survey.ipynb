{
 "cells": [
  {
   "cell_type": "markdown",
   "metadata": {},
   "source": [
    "# Heather R. Sanders\n",
    "    CSC 570: Data Science\n",
    "    Spring 2016\n",
    "    M. Bernico\n",
    "    March 25, 2016\n",
    "\n",
    "## Reddit Survey Assignment\n",
    "* Survey Data and conduct full EDA (Exploratory Data Analysis)\n",
    "* Use Pearson's Correlation Coefficient, determine which variables are most highly collinear. Graph results.\n",
    "* Create Random Forest model that predicts Income based on remaining variables."
   ]
  },
  {
   "cell_type": "code",
   "execution_count": 335,
   "metadata": {
    "collapsed": false
   },
   "outputs": [
    {
     "name": "stdout",
     "output_type": "stream",
     "text": [
      "Populating the interactive namespace from numpy and matplotlib\n"
     ]
    }
   ],
   "source": [
    "%matplotlib inline\n",
    "import pandas as pd\n",
    "%pylab inline"
   ]
  },
  {
   "cell_type": "code",
   "execution_count": 423,
   "metadata": {
    "collapsed": false
   },
   "outputs": [
    {
     "data": {
      "text/html": [
       "<div>\n",
       "<table border=\"1\" class=\"dataframe\">\n",
       "  <thead>\n",
       "    <tr style=\"text-align: right;\">\n",
       "      <th></th>\n",
       "      <th>Entry Id</th>\n",
       "      <th>Please indicate your gender.</th>\n",
       "      <th>Please select the category that includes your age.</th>\n",
       "      <th>What is your marital status?</th>\n",
       "      <th>What best describes your employment status?</th>\n",
       "      <th>Are you or have you ever been in military service?</th>\n",
       "      <th>Do you currently have children under the age of 18 living in your household?</th>\n",
       "      <th>What best describes your level of education?</th>\n",
       "      <th>Treated country data</th>\n",
       "      <th>(For U. S. redditors) In which state do you live?</th>\n",
       "      <th>Which one of the following ranges includes your total yearly household income before taxes?</th>\n",
       "      <th>treated subreddit data</th>\n",
       "      <th>Are you a dog or a cat person?</th>\n",
       "      <th>If you were a cheese, what cheese would you be?</th>\n",
       "      <th>Unnamed: 14</th>\n",
       "      <th>Unnamed: 15</th>\n",
       "      <th>Unnamed: 16</th>\n",
       "      <th>Unnamed: 17</th>\n",
       "      <th>Unnamed: 18</th>\n",
       "      <th>Unnamed: 19</th>\n",
       "    </tr>\n",
       "  </thead>\n",
       "  <tbody>\n",
       "    <tr>\n",
       "      <th>0</th>\n",
       "      <td>1</td>\n",
       "      <td>Male</td>\n",
       "      <td>25-34</td>\n",
       "      <td>Single</td>\n",
       "      <td>Employed full time</td>\n",
       "      <td>none</td>\n",
       "      <td>No</td>\n",
       "      <td>Bachelor's degree</td>\n",
       "      <td>North America</td>\n",
       "      <td>New York</td>\n",
       "      <td>$150,000 or more</td>\n",
       "      <td>getmotivated</td>\n",
       "      <td>none</td>\n",
       "      <td>none</td>\n",
       "      <td>NaN</td>\n",
       "      <td>NaN</td>\n",
       "      <td>NaN</td>\n",
       "      <td>NaN</td>\n",
       "      <td>NaN</td>\n",
       "      <td>NaN</td>\n",
       "    </tr>\n",
       "    <tr>\n",
       "      <th>1</th>\n",
       "      <td>2</td>\n",
       "      <td>Male</td>\n",
       "      <td>25-34</td>\n",
       "      <td>Single</td>\n",
       "      <td>Employed full time</td>\n",
       "      <td>none</td>\n",
       "      <td>No</td>\n",
       "      <td>Bachelor's degree</td>\n",
       "      <td>North America</td>\n",
       "      <td>New York</td>\n",
       "      <td>$150,000 or more</td>\n",
       "      <td>gaming</td>\n",
       "      <td>none</td>\n",
       "      <td>none</td>\n",
       "      <td>NaN</td>\n",
       "      <td>NaN</td>\n",
       "      <td>NaN</td>\n",
       "      <td>NaN</td>\n",
       "      <td>NaN</td>\n",
       "      <td>NaN</td>\n",
       "    </tr>\n",
       "    <tr>\n",
       "      <th>2</th>\n",
       "      <td>3</td>\n",
       "      <td>Female</td>\n",
       "      <td>18-24</td>\n",
       "      <td>Single</td>\n",
       "      <td>Freelance</td>\n",
       "      <td>none</td>\n",
       "      <td>No</td>\n",
       "      <td>Some college</td>\n",
       "      <td>North America</td>\n",
       "      <td>Virginia</td>\n",
       "      <td>Under $20,000</td>\n",
       "      <td>snackexchange</td>\n",
       "      <td>none</td>\n",
       "      <td>none</td>\n",
       "      <td>NaN</td>\n",
       "      <td>NaN</td>\n",
       "      <td>NaN</td>\n",
       "      <td>NaN</td>\n",
       "      <td>NaN</td>\n",
       "      <td>NaN</td>\n",
       "    </tr>\n",
       "    <tr>\n",
       "      <th>3</th>\n",
       "      <td>4</td>\n",
       "      <td>Male</td>\n",
       "      <td>25-34</td>\n",
       "      <td>Single</td>\n",
       "      <td>Freelance</td>\n",
       "      <td>none</td>\n",
       "      <td>No</td>\n",
       "      <td>Bachelor's degree</td>\n",
       "      <td>North America</td>\n",
       "      <td>New York</td>\n",
       "      <td>$150,000 or more</td>\n",
       "      <td>spacedicks</td>\n",
       "      <td>none</td>\n",
       "      <td>none</td>\n",
       "      <td>NaN</td>\n",
       "      <td>NaN</td>\n",
       "      <td>NaN</td>\n",
       "      <td>NaN</td>\n",
       "      <td>NaN</td>\n",
       "      <td>NaN</td>\n",
       "    </tr>\n",
       "    <tr>\n",
       "      <th>4</th>\n",
       "      <td>5</td>\n",
       "      <td>Female</td>\n",
       "      <td>25-34</td>\n",
       "      <td>Single</td>\n",
       "      <td>Employed full time</td>\n",
       "      <td>none</td>\n",
       "      <td>No</td>\n",
       "      <td>Bachelor's degree</td>\n",
       "      <td>North America</td>\n",
       "      <td>California</td>\n",
       "      <td>$70,000 - $99,999</td>\n",
       "      <td>aww</td>\n",
       "      <td>none</td>\n",
       "      <td>none</td>\n",
       "      <td>NaN</td>\n",
       "      <td>NaN</td>\n",
       "      <td>NaN</td>\n",
       "      <td>NaN</td>\n",
       "      <td>NaN</td>\n",
       "      <td>NaN</td>\n",
       "    </tr>\n",
       "  </tbody>\n",
       "</table>\n",
       "</div>"
      ],
      "text/plain": [
       "   Entry Id Please indicate your gender.  \\\n",
       "0         1                         Male   \n",
       "1         2                         Male   \n",
       "2         3                       Female   \n",
       "3         4                         Male   \n",
       "4         5                       Female   \n",
       "\n",
       "  Please select the category that includes your age.  \\\n",
       "0                                              25-34   \n",
       "1                                              25-34   \n",
       "2                                              18-24   \n",
       "3                                              25-34   \n",
       "4                                              25-34   \n",
       "\n",
       "  What is your marital status? What best describes your employment status?  \\\n",
       "0                       Single                          Employed full time   \n",
       "1                       Single                          Employed full time   \n",
       "2                       Single                                   Freelance   \n",
       "3                       Single                                   Freelance   \n",
       "4                       Single                          Employed full time   \n",
       "\n",
       "  Are you or have you ever been in military service?  \\\n",
       "0                                               none   \n",
       "1                                               none   \n",
       "2                                               none   \n",
       "3                                               none   \n",
       "4                                               none   \n",
       "\n",
       "  Do you currently have children under the age of 18 living in your household?  \\\n",
       "0                                                 No                             \n",
       "1                                                 No                             \n",
       "2                                                 No                             \n",
       "3                                                 No                             \n",
       "4                                                 No                             \n",
       "\n",
       "  What best describes your level of education? Treated country data  \\\n",
       "0                            Bachelor's degree        North America   \n",
       "1                            Bachelor's degree        North America   \n",
       "2                                 Some college        North America   \n",
       "3                            Bachelor's degree        North America   \n",
       "4                            Bachelor's degree        North America   \n",
       "\n",
       "  (For U. S. redditors) In which state do you live?  \\\n",
       "0                                          New York   \n",
       "1                                          New York   \n",
       "2                                          Virginia   \n",
       "3                                          New York   \n",
       "4                                        California   \n",
       "\n",
       "  Which one of the following ranges includes your total yearly household income before taxes?  \\\n",
       "0                                   $150,000 or more                                            \n",
       "1                                   $150,000 or more                                            \n",
       "2                                      Under $20,000                                            \n",
       "3                                   $150,000 or more                                            \n",
       "4                                  $70,000 - $99,999                                            \n",
       "\n",
       "  treated subreddit data Are you a dog or a cat person?  \\\n",
       "0           getmotivated                           none   \n",
       "1                 gaming                           none   \n",
       "2          snackexchange                           none   \n",
       "3             spacedicks                           none   \n",
       "4                    aww                           none   \n",
       "\n",
       "  If you were a cheese, what cheese would you be? Unnamed: 14 Unnamed: 15  \\\n",
       "0                                            none         NaN         NaN   \n",
       "1                                            none         NaN         NaN   \n",
       "2                                            none         NaN         NaN   \n",
       "3                                            none         NaN         NaN   \n",
       "4                                            none         NaN         NaN   \n",
       "\n",
       "  Unnamed: 16 Unnamed: 17 Unnamed: 18 Unnamed: 19  \n",
       "0         NaN         NaN         NaN         NaN  \n",
       "1         NaN         NaN         NaN         NaN  \n",
       "2         NaN         NaN         NaN         NaN  \n",
       "3         NaN         NaN         NaN         NaN  \n",
       "4         NaN         NaN         NaN         NaN  "
      ]
     },
     "execution_count": 423,
     "metadata": {},
     "output_type": "execute_result"
    }
   ],
   "source": [
    "# Load the Reddit Survey dataset\n",
    "df = pd.read_csv(\"RedditShortDemoSurvey-1-Cleaned.csv\")\n",
    "df.head(5)"
   ]
  },
  {
   "cell_type": "code",
   "execution_count": 424,
   "metadata": {
    "collapsed": false
   },
   "outputs": [],
   "source": [
    "# Rename columns and drop empty columns\n",
    "df.rename(columns={'Entry Id': 'ID', 'Please indicate your gender.': 'Sex', \n",
    "                   'Please select the category that includes your age.' : 'Age',\n",
    "                   'What is your marital status?' : 'mStatus',\n",
    "                   'What best describes your employment status?' : 'empStatus',\n",
    "                   'Are you or have you ever been in military service?' : 'Military',\n",
    "                   'Do you currently have children under the age of 18 living in your household?' : 'Dependents',\n",
    "                   'What best describes your level of education?' : 'EdLevel',\n",
    "                   'Treated country data' : 'Continent',\n",
    "                   '(For U. S. redditors) In which state do you live?' : 'State',\n",
    "                   'Which one of the following ranges includes your total yearly household income before taxes?' : 'Income',\n",
    "                   'treated subreddit data' : 'subData',\n",
    "                   'Are you a dog or a cat person?' : 'Pet',\n",
    "                   'If you were a cheese, what cheese would you be?' : 'Cheese'}, inplace=True)\n",
    "df.drop(['Unnamed: 14','Unnamed: 15','Unnamed: 16','Unnamed: 17','Unnamed: 18','Unnamed: 19'], axis=1, inplace=True)"
   ]
  },
  {
   "cell_type": "code",
   "execution_count": 425,
   "metadata": {
    "collapsed": false
   },
   "outputs": [],
   "source": [
    "# Assign my dependent variable, Income, to y.\n",
    "y = df['Income']\n",
    "\n",
    "# Create and assign X dataframe with remaining fields\n",
    "X = pd.DataFrame()\n",
    "X['ID'] = df['ID']\n",
    "X['Sex'] = df['Sex']\n",
    "X['Age'] = df['Age']\n",
    "X['mStatus'] = df['mStatus']\n",
    "X['empStatus'] = df['empStatus']\n",
    "X['Military'] = df['Military']\n",
    "X['Dependents'] = df['Dependents']\n",
    "X['EdLevel'] = df['EdLevel']\n",
    "X['Continent'] = df['Continent']\n",
    "X['subData'] = df['subData']\n",
    "X['Pet'] = df['Pet']\n",
    "X['Cheese'] = df['Cheese']"
   ]
  },
  {
   "cell_type": "code",
   "execution_count": 426,
   "metadata": {
    "collapsed": false
   },
   "outputs": [
    {
     "data": {
      "text/plain": [
       "count             32553\n",
       "unique                9\n",
       "top       Under $20,000\n",
       "freq               7854\n",
       "Name: Income, dtype: object"
      ]
     },
     "execution_count": 426,
     "metadata": {},
     "output_type": "execute_result"
    }
   ],
   "source": [
    "y.describe()"
   ]
  },
  {
   "cell_type": "code",
   "execution_count": 427,
   "metadata": {
    "collapsed": true
   },
   "outputs": [],
   "source": [
    "# Function taken from Jason Sanchez's Random Forest == Awesome\n",
    "# Here is a simple function to show descriptive stats on the categorical variables\n",
    "def describe_categorical(X):\n",
    "    \"\"\"\n",
    "    Just like .describe(), but returns the results for\n",
    "    categorical variables only.\n",
    "    \"\"\"\n",
    "    from IPython.display import display, HTML\n",
    "    display(HTML(X[X.columns[X.dtypes == \"object\"]].describe().to_html()))"
   ]
  },
  {
   "cell_type": "code",
   "execution_count": 428,
   "metadata": {
    "collapsed": false
   },
   "outputs": [
    {
     "data": {
      "text/html": [
       "<div>\n",
       "<table border=\"1\" class=\"dataframe\">\n",
       "  <thead>\n",
       "    <tr style=\"text-align: right;\">\n",
       "      <th></th>\n",
       "      <th>ID</th>\n",
       "    </tr>\n",
       "  </thead>\n",
       "  <tbody>\n",
       "    <tr>\n",
       "      <th>count</th>\n",
       "      <td>32553.000000</td>\n",
       "    </tr>\n",
       "    <tr>\n",
       "      <th>mean</th>\n",
       "      <td>16372.436396</td>\n",
       "    </tr>\n",
       "    <tr>\n",
       "      <th>std</th>\n",
       "      <td>9455.091288</td>\n",
       "    </tr>\n",
       "    <tr>\n",
       "      <th>min</th>\n",
       "      <td>1.000000</td>\n",
       "    </tr>\n",
       "    <tr>\n",
       "      <th>25%</th>\n",
       "      <td>8183.000000</td>\n",
       "    </tr>\n",
       "    <tr>\n",
       "      <th>50%</th>\n",
       "      <td>16360.000000</td>\n",
       "    </tr>\n",
       "    <tr>\n",
       "      <th>75%</th>\n",
       "      <td>24562.000000</td>\n",
       "    </tr>\n",
       "    <tr>\n",
       "      <th>max</th>\n",
       "      <td>32756.000000</td>\n",
       "    </tr>\n",
       "  </tbody>\n",
       "</table>\n",
       "</div>"
      ],
      "text/plain": [
       "                 ID\n",
       "count  32553.000000\n",
       "mean   16372.436396\n",
       "std     9455.091288\n",
       "min        1.000000\n",
       "25%     8183.000000\n",
       "50%    16360.000000\n",
       "75%    24562.000000\n",
       "max    32756.000000"
      ]
     },
     "execution_count": 428,
     "metadata": {},
     "output_type": "execute_result"
    }
   ],
   "source": [
    "X.describe()"
   ]
  },
  {
   "cell_type": "code",
   "execution_count": 429,
   "metadata": {
    "collapsed": false
   },
   "outputs": [
    {
     "data": {
      "text/html": [
       "<table border=\"1\" class=\"dataframe\">\n",
       "  <thead>\n",
       "    <tr style=\"text-align: right;\">\n",
       "      <th></th>\n",
       "      <th>Sex</th>\n",
       "      <th>Age</th>\n",
       "      <th>mStatus</th>\n",
       "      <th>empStatus</th>\n",
       "      <th>Military</th>\n",
       "      <th>Dependents</th>\n",
       "      <th>EdLevel</th>\n",
       "      <th>Continent</th>\n",
       "      <th>subData</th>\n",
       "      <th>Pet</th>\n",
       "      <th>Cheese</th>\n",
       "    </tr>\n",
       "  </thead>\n",
       "  <tbody>\n",
       "    <tr>\n",
       "      <th>count</th>\n",
       "      <td>32553</td>\n",
       "      <td>32553</td>\n",
       "      <td>32553</td>\n",
       "      <td>32553</td>\n",
       "      <td>32553</td>\n",
       "      <td>32553</td>\n",
       "      <td>32553</td>\n",
       "      <td>32553</td>\n",
       "      <td>28262</td>\n",
       "      <td>32551</td>\n",
       "      <td>32553</td>\n",
       "    </tr>\n",
       "    <tr>\n",
       "      <th>unique</th>\n",
       "      <td>2</td>\n",
       "      <td>8</td>\n",
       "      <td>5</td>\n",
       "      <td>7</td>\n",
       "      <td>3</td>\n",
       "      <td>3</td>\n",
       "      <td>8</td>\n",
       "      <td>8</td>\n",
       "      <td>1824</td>\n",
       "      <td>7</td>\n",
       "      <td>17</td>\n",
       "    </tr>\n",
       "    <tr>\n",
       "      <th>top</th>\n",
       "      <td>Male</td>\n",
       "      <td>18-24</td>\n",
       "      <td>Single</td>\n",
       "      <td>Employed full time</td>\n",
       "      <td>No</td>\n",
       "      <td>No</td>\n",
       "      <td>Bachelor's degree</td>\n",
       "      <td>North America</td>\n",
       "      <td>askreddit</td>\n",
       "      <td>I like dogs.</td>\n",
       "      <td>Other</td>\n",
       "    </tr>\n",
       "    <tr>\n",
       "      <th>freq</th>\n",
       "      <td>26418</td>\n",
       "      <td>15750</td>\n",
       "      <td>16160</td>\n",
       "      <td>14725</td>\n",
       "      <td>30389</td>\n",
       "      <td>27349</td>\n",
       "      <td>10989</td>\n",
       "      <td>24250</td>\n",
       "      <td>2118</td>\n",
       "      <td>17023</td>\n",
       "      <td>6522</td>\n",
       "    </tr>\n",
       "  </tbody>\n",
       "</table>"
      ],
      "text/plain": [
       "<IPython.core.display.HTML object>"
      ]
     },
     "metadata": {},
     "output_type": "display_data"
    }
   ],
   "source": [
    "describe_categorical(X)"
   ]
  },
  {
   "cell_type": "code",
   "execution_count": 430,
   "metadata": {
    "collapsed": false
   },
   "outputs": [],
   "source": [
    "# Fill missing data with the word \"Missing\"\n",
    "X['subData'].fillna(\"Missing\", inplace=True)"
   ]
  },
  {
   "cell_type": "code",
   "execution_count": 431,
   "metadata": {
    "collapsed": true
   },
   "outputs": [],
   "source": [
    "# Fill missing data with the word \"MissingData\"\n",
    "X['Pet'].fillna(\"nonenone\", inplace=True)"
   ]
  },
  {
   "cell_type": "code",
   "execution_count": 432,
   "metadata": {
    "collapsed": false
   },
   "outputs": [
    {
     "data": {
      "text/html": [
       "<table border=\"1\" class=\"dataframe\">\n",
       "  <thead>\n",
       "    <tr style=\"text-align: right;\">\n",
       "      <th></th>\n",
       "      <th>Sex</th>\n",
       "      <th>Age</th>\n",
       "      <th>mStatus</th>\n",
       "      <th>empStatus</th>\n",
       "      <th>Military</th>\n",
       "      <th>Dependents</th>\n",
       "      <th>EdLevel</th>\n",
       "      <th>Continent</th>\n",
       "      <th>subData</th>\n",
       "      <th>Pet</th>\n",
       "      <th>Cheese</th>\n",
       "    </tr>\n",
       "  </thead>\n",
       "  <tbody>\n",
       "    <tr>\n",
       "      <th>count</th>\n",
       "      <td>32553</td>\n",
       "      <td>32553</td>\n",
       "      <td>32553</td>\n",
       "      <td>32553</td>\n",
       "      <td>32553</td>\n",
       "      <td>32553</td>\n",
       "      <td>32553</td>\n",
       "      <td>32553</td>\n",
       "      <td>32553</td>\n",
       "      <td>32553</td>\n",
       "      <td>32553</td>\n",
       "    </tr>\n",
       "    <tr>\n",
       "      <th>unique</th>\n",
       "      <td>2</td>\n",
       "      <td>8</td>\n",
       "      <td>5</td>\n",
       "      <td>7</td>\n",
       "      <td>3</td>\n",
       "      <td>3</td>\n",
       "      <td>8</td>\n",
       "      <td>8</td>\n",
       "      <td>1825</td>\n",
       "      <td>8</td>\n",
       "      <td>17</td>\n",
       "    </tr>\n",
       "    <tr>\n",
       "      <th>top</th>\n",
       "      <td>Male</td>\n",
       "      <td>18-24</td>\n",
       "      <td>Single</td>\n",
       "      <td>Employed full time</td>\n",
       "      <td>No</td>\n",
       "      <td>No</td>\n",
       "      <td>Bachelor's degree</td>\n",
       "      <td>North America</td>\n",
       "      <td>Missing</td>\n",
       "      <td>I like dogs.</td>\n",
       "      <td>Other</td>\n",
       "    </tr>\n",
       "    <tr>\n",
       "      <th>freq</th>\n",
       "      <td>26418</td>\n",
       "      <td>15750</td>\n",
       "      <td>16160</td>\n",
       "      <td>14725</td>\n",
       "      <td>30389</td>\n",
       "      <td>27349</td>\n",
       "      <td>10989</td>\n",
       "      <td>24250</td>\n",
       "      <td>4291</td>\n",
       "      <td>17023</td>\n",
       "      <td>6522</td>\n",
       "    </tr>\n",
       "  </tbody>\n",
       "</table>"
      ],
      "text/plain": [
       "<IPython.core.display.HTML object>"
      ]
     },
     "metadata": {},
     "output_type": "display_data"
    }
   ],
   "source": [
    "# The subData category should now have a count of 32754\n",
    "describe_categorical(X)"
   ]
  },
  {
   "cell_type": "code",
   "execution_count": 433,
   "metadata": {
    "collapsed": false
   },
   "outputs": [],
   "source": [
    "X['Pet'].replace({'none': 'nonenone','movies' : 'nonenone', 'askreddit' : 'nonenone', 'Reddit\\.com' : 'nonenone'}, regex=True, inplace=True)"
   ]
  },
  {
   "cell_type": "code",
   "execution_count": 434,
   "metadata": {
    "collapsed": false
   },
   "outputs": [],
   "source": [
    "# Clean the Pet category to only contain Dog or Cat or None\n",
    "def clean_pet(x):\n",
    "    try:\n",
    "        return x[7]\n",
    "\n",
    "    except TypeError:\n",
    "        return \"None\"\n",
    "\n",
    "X[\"Pet\"] = X.Pet.apply(clean_pet)"
   ]
  },
  {
   "cell_type": "code",
   "execution_count": 435,
   "metadata": {
    "collapsed": false
   },
   "outputs": [],
   "source": [
    "X['Pet'].replace({'e' : 'None', 't' : 'None', 'c' : 'Cat', 'd' : 'Dog','n' : 'None'}, regex=True, inplace=True)"
   ]
  },
  {
   "cell_type": "code",
   "execution_count": 436,
   "metadata": {
    "collapsed": true
   },
   "outputs": [],
   "source": [
    "X['Pet'].replace({'CaNone' : 'Cat', 'NonNone' : 'None'}, regex=True, inplace=True)"
   ]
  },
  {
   "cell_type": "code",
   "execution_count": 437,
   "metadata": {
    "collapsed": false
   },
   "outputs": [
    {
     "data": {
      "text/plain": [
       "0     None\n",
       "1     None\n",
       "2     None\n",
       "3     None\n",
       "4     None\n",
       "5      Dog\n",
       "6      Dog\n",
       "7      Dog\n",
       "8      Cat\n",
       "9      Cat\n",
       "10     Dog\n",
       "11     Dog\n",
       "12    None\n",
       "13     Cat\n",
       "14     Dog\n",
       "Name: Pet, dtype: object"
      ]
     },
     "execution_count": 437,
     "metadata": {},
     "output_type": "execute_result"
    }
   ],
   "source": [
    "X['Pet'].head(15)"
   ]
  },
  {
   "cell_type": "code",
   "execution_count": 438,
   "metadata": {
    "collapsed": false
   },
   "outputs": [
    {
     "data": {
      "text/html": [
       "<table border=\"1\" class=\"dataframe\">\n",
       "  <thead>\n",
       "    <tr style=\"text-align: right;\">\n",
       "      <th></th>\n",
       "      <th>Sex</th>\n",
       "      <th>Age</th>\n",
       "      <th>mStatus</th>\n",
       "      <th>empStatus</th>\n",
       "      <th>Military</th>\n",
       "      <th>Dependents</th>\n",
       "      <th>EdLevel</th>\n",
       "      <th>Continent</th>\n",
       "      <th>subData</th>\n",
       "      <th>Pet</th>\n",
       "      <th>Cheese</th>\n",
       "    </tr>\n",
       "  </thead>\n",
       "  <tbody>\n",
       "    <tr>\n",
       "      <th>count</th>\n",
       "      <td>32553</td>\n",
       "      <td>32553</td>\n",
       "      <td>32553</td>\n",
       "      <td>32553</td>\n",
       "      <td>32553</td>\n",
       "      <td>32553</td>\n",
       "      <td>32553</td>\n",
       "      <td>32553</td>\n",
       "      <td>32553</td>\n",
       "      <td>32553</td>\n",
       "      <td>32553</td>\n",
       "    </tr>\n",
       "    <tr>\n",
       "      <th>unique</th>\n",
       "      <td>2</td>\n",
       "      <td>8</td>\n",
       "      <td>5</td>\n",
       "      <td>7</td>\n",
       "      <td>3</td>\n",
       "      <td>3</td>\n",
       "      <td>8</td>\n",
       "      <td>8</td>\n",
       "      <td>1825</td>\n",
       "      <td>3</td>\n",
       "      <td>17</td>\n",
       "    </tr>\n",
       "    <tr>\n",
       "      <th>top</th>\n",
       "      <td>Male</td>\n",
       "      <td>18-24</td>\n",
       "      <td>Single</td>\n",
       "      <td>Employed full time</td>\n",
       "      <td>No</td>\n",
       "      <td>No</td>\n",
       "      <td>Bachelor's degree</td>\n",
       "      <td>North America</td>\n",
       "      <td>Missing</td>\n",
       "      <td>Dog</td>\n",
       "      <td>Other</td>\n",
       "    </tr>\n",
       "    <tr>\n",
       "      <th>freq</th>\n",
       "      <td>26418</td>\n",
       "      <td>15750</td>\n",
       "      <td>16160</td>\n",
       "      <td>14725</td>\n",
       "      <td>30389</td>\n",
       "      <td>27349</td>\n",
       "      <td>10989</td>\n",
       "      <td>24250</td>\n",
       "      <td>4291</td>\n",
       "      <td>17023</td>\n",
       "      <td>6522</td>\n",
       "    </tr>\n",
       "  </tbody>\n",
       "</table>"
      ],
      "text/plain": [
       "<IPython.core.display.HTML object>"
      ]
     },
     "metadata": {},
     "output_type": "display_data"
    }
   ],
   "source": [
    "describe_categorical(X)"
   ]
  },
  {
   "cell_type": "code",
   "execution_count": 439,
   "metadata": {
    "collapsed": false
   },
   "outputs": [
    {
     "name": "stdout",
     "output_type": "stream",
     "text": [
      "Sex  ['Male' 'Female']\n",
      "Age  ['25-34' '18-24' '35-44' '45-54' 'Under 18' '55-64' '65 or Above' 'None']\n",
      "Marriage Status  ['Single' 'Married/civil union/domestic partnership' 'In a relationship'\n",
      " 'Engaged' 'Widowed']\n",
      "Employee Status  ['Employed full time' 'Freelance' 'Not employed, but looking for work'\n",
      " 'Not employed and not looking for work' 'Student' 'None' 'Retired']\n",
      "Military  ['none' 'No' 'Yes']\n",
      "Dependents  ['No' 'Yes' 'None']\n",
      "Level of Education  [\"Bachelor's degree\" 'Some college' 'High school graduate or equivalent'\n",
      " 'Graduate or professional degree' 'Trade or Vocational degree'\n",
      " 'Associate degree' 'Some high school' 'None']\n",
      "Pet  ['None' 'Dog' 'Cat']\n",
      "Cheese  ['none' 'Cheddar' 'American' 'Provolone' 'Munster' 'Swiss' 'Goat' 'Feta'\n",
      " 'Other' 'Brie' 'Paneer' 'Limburger' '1' ' awww' ' f7u12' \"programming')\"\n",
      " ' Pics']\n",
      "y  ['$150,000 or more' 'Under $20,000' '$70,000 - $99,999' 'none'\n",
      " '$40,000 - $49,999' '$50,000 - $69,999' '$100,000 - $149,999'\n",
      " '$20,000 - $29,999' '$30,000 - $39,999']\n"
     ]
    }
   ],
   "source": [
    "sUnique = pd.unique(X.Sex.ravel())\n",
    "aUnique = pd.unique(X.Age.ravel())\n",
    "mUnique = pd.unique(X.mStatus.ravel())\n",
    "eUnique = pd.unique(X.empStatus.ravel())\n",
    "milUnique = pd.unique(X.Military.ravel())\n",
    "dUnique = pd.unique(X.Dependents.ravel())\n",
    "lUnique = pd.unique(X.EdLevel.ravel())\n",
    "pUnique = pd.unique(X.Pet.ravel())\n",
    "cUnique = pd.unique(X.Cheese.ravel())\n",
    "yUnique = pd.unique(y.ravel())\n",
    "print \"Sex \", sUnique\n",
    "print \"Age \", aUnique\n",
    "print \"Marriage Status \", mUnique\n",
    "print \"Employee Status \", eUnique\n",
    "print \"Military \", milUnique\n",
    "print \"Dependents \", dUnique\n",
    "print \"Level of Education \", lUnique\n",
    "print \"Pet \", pUnique\n",
    "print \"Cheese \", cUnique\n",
    "print \"y \", yUnique"
   ]
  },
  {
   "cell_type": "code",
   "execution_count": 440,
   "metadata": {
    "collapsed": false
   },
   "outputs": [],
   "source": [
    "X['Cheese'].replace({'1' : 'none', ' awww' : 'none', ' f7u12' : 'none', \"programming\\'\\)\" : 'none',' Pics' : 'none'}, regex=True, inplace=True)"
   ]
  },
  {
   "cell_type": "code",
   "execution_count": 441,
   "metadata": {
    "collapsed": true
   },
   "outputs": [],
   "source": [
    "X['Cheese'].replace({' f7unone2' : 'none'}, regex=True, inplace=True)"
   ]
  },
  {
   "cell_type": "code",
   "execution_count": 442,
   "metadata": {
    "collapsed": true
   },
   "outputs": [],
   "source": [
    "X['Dependents'].replace({'None' : 'No'}, regex=True, inplace=True)"
   ]
  },
  {
   "cell_type": "code",
   "execution_count": 443,
   "metadata": {
    "collapsed": true
   },
   "outputs": [],
   "source": [
    "X['Military'].replace({'none' : 'No'}, regex=True, inplace=True)"
   ]
  },
  {
   "cell_type": "code",
   "execution_count": 444,
   "metadata": {
    "collapsed": false
   },
   "outputs": [
    {
     "data": {
      "text/html": [
       "<table border=\"1\" class=\"dataframe\">\n",
       "  <thead>\n",
       "    <tr style=\"text-align: right;\">\n",
       "      <th></th>\n",
       "      <th>Sex</th>\n",
       "      <th>Age</th>\n",
       "      <th>mStatus</th>\n",
       "      <th>empStatus</th>\n",
       "      <th>Military</th>\n",
       "      <th>Dependents</th>\n",
       "      <th>EdLevel</th>\n",
       "      <th>Continent</th>\n",
       "      <th>subData</th>\n",
       "      <th>Pet</th>\n",
       "      <th>Cheese</th>\n",
       "    </tr>\n",
       "  </thead>\n",
       "  <tbody>\n",
       "    <tr>\n",
       "      <th>count</th>\n",
       "      <td>32553</td>\n",
       "      <td>32553</td>\n",
       "      <td>32553</td>\n",
       "      <td>32553</td>\n",
       "      <td>32553</td>\n",
       "      <td>32553</td>\n",
       "      <td>32553</td>\n",
       "      <td>32553</td>\n",
       "      <td>32553</td>\n",
       "      <td>32553</td>\n",
       "      <td>32553</td>\n",
       "    </tr>\n",
       "    <tr>\n",
       "      <th>unique</th>\n",
       "      <td>2</td>\n",
       "      <td>8</td>\n",
       "      <td>5</td>\n",
       "      <td>7</td>\n",
       "      <td>2</td>\n",
       "      <td>2</td>\n",
       "      <td>8</td>\n",
       "      <td>8</td>\n",
       "      <td>1825</td>\n",
       "      <td>3</td>\n",
       "      <td>12</td>\n",
       "    </tr>\n",
       "    <tr>\n",
       "      <th>top</th>\n",
       "      <td>Male</td>\n",
       "      <td>18-24</td>\n",
       "      <td>Single</td>\n",
       "      <td>Employed full time</td>\n",
       "      <td>No</td>\n",
       "      <td>No</td>\n",
       "      <td>Bachelor's degree</td>\n",
       "      <td>North America</td>\n",
       "      <td>Missing</td>\n",
       "      <td>Dog</td>\n",
       "      <td>Other</td>\n",
       "    </tr>\n",
       "    <tr>\n",
       "      <th>freq</th>\n",
       "      <td>26418</td>\n",
       "      <td>15750</td>\n",
       "      <td>16160</td>\n",
       "      <td>14725</td>\n",
       "      <td>30394</td>\n",
       "      <td>27526</td>\n",
       "      <td>10989</td>\n",
       "      <td>24250</td>\n",
       "      <td>4291</td>\n",
       "      <td>17023</td>\n",
       "      <td>6522</td>\n",
       "    </tr>\n",
       "  </tbody>\n",
       "</table>"
      ],
      "text/plain": [
       "<IPython.core.display.HTML object>"
      ]
     },
     "metadata": {},
     "output_type": "display_data"
    }
   ],
   "source": [
    "describe_categorical(X)"
   ]
  },
  {
   "cell_type": "markdown",
   "metadata": {},
   "source": [
    "## Drop variables that I think are not relevant"
   ]
  },
  {
   "cell_type": "code",
   "execution_count": 445,
   "metadata": {
    "collapsed": true
   },
   "outputs": [],
   "source": [
    "X.drop('subData', axis=1, inplace=True)"
   ]
  },
  {
   "cell_type": "code",
   "execution_count": 446,
   "metadata": {
    "collapsed": true
   },
   "outputs": [],
   "source": [
    "X.drop('ID', axis=1, inplace=True)"
   ]
  },
  {
   "cell_type": "code",
   "execution_count": 447,
   "metadata": {
    "collapsed": true
   },
   "outputs": [],
   "source": [
    "X.drop('Pet', axis=1, inplace=True)"
   ]
  },
  {
   "cell_type": "code",
   "execution_count": 448,
   "metadata": {
    "collapsed": true
   },
   "outputs": [],
   "source": [
    "X.drop('Cheese', axis=1, inplace=True)"
   ]
  },
  {
   "cell_type": "code",
   "execution_count": 449,
   "metadata": {
    "collapsed": true
   },
   "outputs": [],
   "source": [
    "X.drop('Sex', axis=1, inplace=True)"
   ]
  },
  {
   "cell_type": "code",
   "execution_count": 450,
   "metadata": {
    "collapsed": true
   },
   "outputs": [],
   "source": [
    "X.drop('Military', axis=1, inplace=True)"
   ]
  },
  {
   "cell_type": "code",
   "execution_count": 451,
   "metadata": {
    "collapsed": true
   },
   "outputs": [],
   "source": [
    "X.drop('Dependents', axis=1, inplace=True)"
   ]
  },
  {
   "cell_type": "code",
   "execution_count": 452,
   "metadata": {
    "collapsed": false
   },
   "outputs": [
    {
     "data": {
      "text/html": [
       "<table border=\"1\" class=\"dataframe\">\n",
       "  <thead>\n",
       "    <tr style=\"text-align: right;\">\n",
       "      <th></th>\n",
       "      <th>Age</th>\n",
       "      <th>mStatus</th>\n",
       "      <th>empStatus</th>\n",
       "      <th>EdLevel</th>\n",
       "      <th>Continent</th>\n",
       "    </tr>\n",
       "  </thead>\n",
       "  <tbody>\n",
       "    <tr>\n",
       "      <th>count</th>\n",
       "      <td>32553</td>\n",
       "      <td>32553</td>\n",
       "      <td>32553</td>\n",
       "      <td>32553</td>\n",
       "      <td>32553</td>\n",
       "    </tr>\n",
       "    <tr>\n",
       "      <th>unique</th>\n",
       "      <td>8</td>\n",
       "      <td>5</td>\n",
       "      <td>7</td>\n",
       "      <td>8</td>\n",
       "      <td>8</td>\n",
       "    </tr>\n",
       "    <tr>\n",
       "      <th>top</th>\n",
       "      <td>18-24</td>\n",
       "      <td>Single</td>\n",
       "      <td>Employed full time</td>\n",
       "      <td>Bachelor's degree</td>\n",
       "      <td>North America</td>\n",
       "    </tr>\n",
       "    <tr>\n",
       "      <th>freq</th>\n",
       "      <td>15750</td>\n",
       "      <td>16160</td>\n",
       "      <td>14725</td>\n",
       "      <td>10989</td>\n",
       "      <td>24250</td>\n",
       "    </tr>\n",
       "  </tbody>\n",
       "</table>"
      ],
      "text/plain": [
       "<IPython.core.display.HTML object>"
      ]
     },
     "metadata": {},
     "output_type": "display_data"
    }
   ],
   "source": [
    "describe_categorical(X)"
   ]
  },
  {
   "cell_type": "code",
   "execution_count": 453,
   "metadata": {
    "collapsed": false
   },
   "outputs": [],
   "source": [
    "categorical_variables = ['Age', 'mStatus', 'empStatus', 'EdLevel', 'Continent']\n",
    "\n",
    "for variable in categorical_variables:\n",
    "    # Create array of dummies\n",
    "    dummies = pd.get_dummies(X[variable], prefix=variable)\n",
    "    # Update X to include dummies and drop the main variable\n",
    "    X = pd.concat([X, dummies], axis=1)\n",
    "    X.drop([variable], axis=1, inplace=True)"
   ]
  },
  {
   "cell_type": "code",
   "execution_count": 454,
   "metadata": {
    "collapsed": false
   },
   "outputs": [
    {
     "data": {
      "text/html": [
       "<div>\n",
       "<table border=\"1\" class=\"dataframe\">\n",
       "  <thead>\n",
       "    <tr style=\"text-align: right;\">\n",
       "      <th></th>\n",
       "      <th>Age_18-24</th>\n",
       "      <th>Age_25-34</th>\n",
       "      <th>Age_35-44</th>\n",
       "      <th>Age_45-54</th>\n",
       "      <th>Age_55-64</th>\n",
       "      <th>Age_65 or Above</th>\n",
       "      <th>Age_None</th>\n",
       "      <th>Age_Under 18</th>\n",
       "      <th>mStatus_Engaged</th>\n",
       "      <th>mStatus_In a relationship</th>\n",
       "      <th>...</th>\n",
       "      <th>EdLevel_Some high school</th>\n",
       "      <th>EdLevel_Trade or Vocational degree</th>\n",
       "      <th>Continent_Africa</th>\n",
       "      <th>Continent_Antarctica</th>\n",
       "      <th>Continent_Asia</th>\n",
       "      <th>Continent_Europe</th>\n",
       "      <th>Continent_None</th>\n",
       "      <th>Continent_North America</th>\n",
       "      <th>Continent_Oceania</th>\n",
       "      <th>Continent_South America</th>\n",
       "    </tr>\n",
       "  </thead>\n",
       "  <tbody>\n",
       "    <tr>\n",
       "      <th>count</th>\n",
       "      <td>32553.000000</td>\n",
       "      <td>32553.000000</td>\n",
       "      <td>32553.000000</td>\n",
       "      <td>32553.00000</td>\n",
       "      <td>32553.000000</td>\n",
       "      <td>32553.000000</td>\n",
       "      <td>32553.000000</td>\n",
       "      <td>32553.000000</td>\n",
       "      <td>32553.000000</td>\n",
       "      <td>32553.000000</td>\n",
       "      <td>...</td>\n",
       "      <td>32553.000000</td>\n",
       "      <td>32553.000000</td>\n",
       "      <td>32553.000000</td>\n",
       "      <td>32553.000000</td>\n",
       "      <td>32553.000000</td>\n",
       "      <td>32553.000000</td>\n",
       "      <td>32553.000000</td>\n",
       "      <td>32553.000000</td>\n",
       "      <td>32553.000000</td>\n",
       "      <td>32553.000000</td>\n",
       "    </tr>\n",
       "    <tr>\n",
       "      <th>mean</th>\n",
       "      <td>0.483826</td>\n",
       "      <td>0.353301</td>\n",
       "      <td>0.068934</td>\n",
       "      <td>0.01536</td>\n",
       "      <td>0.004301</td>\n",
       "      <td>0.001782</td>\n",
       "      <td>0.001137</td>\n",
       "      <td>0.071361</td>\n",
       "      <td>0.033914</td>\n",
       "      <td>0.300495</td>\n",
       "      <td>...</td>\n",
       "      <td>0.058889</td>\n",
       "      <td>0.019384</td>\n",
       "      <td>0.003656</td>\n",
       "      <td>0.000061</td>\n",
       "      <td>0.026418</td>\n",
       "      <td>0.167757</td>\n",
       "      <td>0.005038</td>\n",
       "      <td>0.744939</td>\n",
       "      <td>0.043498</td>\n",
       "      <td>0.008632</td>\n",
       "    </tr>\n",
       "    <tr>\n",
       "      <th>std</th>\n",
       "      <td>0.499746</td>\n",
       "      <td>0.478002</td>\n",
       "      <td>0.253345</td>\n",
       "      <td>0.12298</td>\n",
       "      <td>0.065439</td>\n",
       "      <td>0.042173</td>\n",
       "      <td>0.033695</td>\n",
       "      <td>0.257430</td>\n",
       "      <td>0.181010</td>\n",
       "      <td>0.458480</td>\n",
       "      <td>...</td>\n",
       "      <td>0.235420</td>\n",
       "      <td>0.137872</td>\n",
       "      <td>0.060352</td>\n",
       "      <td>0.007838</td>\n",
       "      <td>0.160379</td>\n",
       "      <td>0.373656</td>\n",
       "      <td>0.070801</td>\n",
       "      <td>0.435902</td>\n",
       "      <td>0.203979</td>\n",
       "      <td>0.092509</td>\n",
       "    </tr>\n",
       "    <tr>\n",
       "      <th>min</th>\n",
       "      <td>0.000000</td>\n",
       "      <td>0.000000</td>\n",
       "      <td>0.000000</td>\n",
       "      <td>0.00000</td>\n",
       "      <td>0.000000</td>\n",
       "      <td>0.000000</td>\n",
       "      <td>0.000000</td>\n",
       "      <td>0.000000</td>\n",
       "      <td>0.000000</td>\n",
       "      <td>0.000000</td>\n",
       "      <td>...</td>\n",
       "      <td>0.000000</td>\n",
       "      <td>0.000000</td>\n",
       "      <td>0.000000</td>\n",
       "      <td>0.000000</td>\n",
       "      <td>0.000000</td>\n",
       "      <td>0.000000</td>\n",
       "      <td>0.000000</td>\n",
       "      <td>0.000000</td>\n",
       "      <td>0.000000</td>\n",
       "      <td>0.000000</td>\n",
       "    </tr>\n",
       "    <tr>\n",
       "      <th>25%</th>\n",
       "      <td>0.000000</td>\n",
       "      <td>0.000000</td>\n",
       "      <td>0.000000</td>\n",
       "      <td>0.00000</td>\n",
       "      <td>0.000000</td>\n",
       "      <td>0.000000</td>\n",
       "      <td>0.000000</td>\n",
       "      <td>0.000000</td>\n",
       "      <td>0.000000</td>\n",
       "      <td>0.000000</td>\n",
       "      <td>...</td>\n",
       "      <td>0.000000</td>\n",
       "      <td>0.000000</td>\n",
       "      <td>0.000000</td>\n",
       "      <td>0.000000</td>\n",
       "      <td>0.000000</td>\n",
       "      <td>0.000000</td>\n",
       "      <td>0.000000</td>\n",
       "      <td>0.000000</td>\n",
       "      <td>0.000000</td>\n",
       "      <td>0.000000</td>\n",
       "    </tr>\n",
       "    <tr>\n",
       "      <th>50%</th>\n",
       "      <td>0.000000</td>\n",
       "      <td>0.000000</td>\n",
       "      <td>0.000000</td>\n",
       "      <td>0.00000</td>\n",
       "      <td>0.000000</td>\n",
       "      <td>0.000000</td>\n",
       "      <td>0.000000</td>\n",
       "      <td>0.000000</td>\n",
       "      <td>0.000000</td>\n",
       "      <td>0.000000</td>\n",
       "      <td>...</td>\n",
       "      <td>0.000000</td>\n",
       "      <td>0.000000</td>\n",
       "      <td>0.000000</td>\n",
       "      <td>0.000000</td>\n",
       "      <td>0.000000</td>\n",
       "      <td>0.000000</td>\n",
       "      <td>0.000000</td>\n",
       "      <td>1.000000</td>\n",
       "      <td>0.000000</td>\n",
       "      <td>0.000000</td>\n",
       "    </tr>\n",
       "    <tr>\n",
       "      <th>75%</th>\n",
       "      <td>1.000000</td>\n",
       "      <td>1.000000</td>\n",
       "      <td>0.000000</td>\n",
       "      <td>0.00000</td>\n",
       "      <td>0.000000</td>\n",
       "      <td>0.000000</td>\n",
       "      <td>0.000000</td>\n",
       "      <td>0.000000</td>\n",
       "      <td>0.000000</td>\n",
       "      <td>1.000000</td>\n",
       "      <td>...</td>\n",
       "      <td>0.000000</td>\n",
       "      <td>0.000000</td>\n",
       "      <td>0.000000</td>\n",
       "      <td>0.000000</td>\n",
       "      <td>0.000000</td>\n",
       "      <td>0.000000</td>\n",
       "      <td>0.000000</td>\n",
       "      <td>1.000000</td>\n",
       "      <td>0.000000</td>\n",
       "      <td>0.000000</td>\n",
       "    </tr>\n",
       "    <tr>\n",
       "      <th>max</th>\n",
       "      <td>1.000000</td>\n",
       "      <td>1.000000</td>\n",
       "      <td>1.000000</td>\n",
       "      <td>1.00000</td>\n",
       "      <td>1.000000</td>\n",
       "      <td>1.000000</td>\n",
       "      <td>1.000000</td>\n",
       "      <td>1.000000</td>\n",
       "      <td>1.000000</td>\n",
       "      <td>1.000000</td>\n",
       "      <td>...</td>\n",
       "      <td>1.000000</td>\n",
       "      <td>1.000000</td>\n",
       "      <td>1.000000</td>\n",
       "      <td>1.000000</td>\n",
       "      <td>1.000000</td>\n",
       "      <td>1.000000</td>\n",
       "      <td>1.000000</td>\n",
       "      <td>1.000000</td>\n",
       "      <td>1.000000</td>\n",
       "      <td>1.000000</td>\n",
       "    </tr>\n",
       "  </tbody>\n",
       "</table>\n",
       "<p>8 rows × 36 columns</p>\n",
       "</div>"
      ],
      "text/plain": [
       "          Age_18-24     Age_25-34     Age_35-44    Age_45-54     Age_55-64  \\\n",
       "count  32553.000000  32553.000000  32553.000000  32553.00000  32553.000000   \n",
       "mean       0.483826      0.353301      0.068934      0.01536      0.004301   \n",
       "std        0.499746      0.478002      0.253345      0.12298      0.065439   \n",
       "min        0.000000      0.000000      0.000000      0.00000      0.000000   \n",
       "25%        0.000000      0.000000      0.000000      0.00000      0.000000   \n",
       "50%        0.000000      0.000000      0.000000      0.00000      0.000000   \n",
       "75%        1.000000      1.000000      0.000000      0.00000      0.000000   \n",
       "max        1.000000      1.000000      1.000000      1.00000      1.000000   \n",
       "\n",
       "       Age_65 or Above      Age_None  Age_Under 18  mStatus_Engaged  \\\n",
       "count     32553.000000  32553.000000  32553.000000     32553.000000   \n",
       "mean          0.001782      0.001137      0.071361         0.033914   \n",
       "std           0.042173      0.033695      0.257430         0.181010   \n",
       "min           0.000000      0.000000      0.000000         0.000000   \n",
       "25%           0.000000      0.000000      0.000000         0.000000   \n",
       "50%           0.000000      0.000000      0.000000         0.000000   \n",
       "75%           0.000000      0.000000      0.000000         0.000000   \n",
       "max           1.000000      1.000000      1.000000         1.000000   \n",
       "\n",
       "       mStatus_In a relationship           ...             \\\n",
       "count               32553.000000           ...              \n",
       "mean                    0.300495           ...              \n",
       "std                     0.458480           ...              \n",
       "min                     0.000000           ...              \n",
       "25%                     0.000000           ...              \n",
       "50%                     0.000000           ...              \n",
       "75%                     1.000000           ...              \n",
       "max                     1.000000           ...              \n",
       "\n",
       "       EdLevel_Some high school  EdLevel_Trade or Vocational degree  \\\n",
       "count              32553.000000                        32553.000000   \n",
       "mean                   0.058889                            0.019384   \n",
       "std                    0.235420                            0.137872   \n",
       "min                    0.000000                            0.000000   \n",
       "25%                    0.000000                            0.000000   \n",
       "50%                    0.000000                            0.000000   \n",
       "75%                    0.000000                            0.000000   \n",
       "max                    1.000000                            1.000000   \n",
       "\n",
       "       Continent_Africa  Continent_Antarctica  Continent_Asia  \\\n",
       "count      32553.000000          32553.000000    32553.000000   \n",
       "mean           0.003656              0.000061        0.026418   \n",
       "std            0.060352              0.007838        0.160379   \n",
       "min            0.000000              0.000000        0.000000   \n",
       "25%            0.000000              0.000000        0.000000   \n",
       "50%            0.000000              0.000000        0.000000   \n",
       "75%            0.000000              0.000000        0.000000   \n",
       "max            1.000000              1.000000        1.000000   \n",
       "\n",
       "       Continent_Europe  Continent_None  Continent_North America  \\\n",
       "count      32553.000000    32553.000000             32553.000000   \n",
       "mean           0.167757        0.005038                 0.744939   \n",
       "std            0.373656        0.070801                 0.435902   \n",
       "min            0.000000        0.000000                 0.000000   \n",
       "25%            0.000000        0.000000                 0.000000   \n",
       "50%            0.000000        0.000000                 1.000000   \n",
       "75%            0.000000        0.000000                 1.000000   \n",
       "max            1.000000        1.000000                 1.000000   \n",
       "\n",
       "       Continent_Oceania  Continent_South America  \n",
       "count       32553.000000             32553.000000  \n",
       "mean            0.043498                 0.008632  \n",
       "std             0.203979                 0.092509  \n",
       "min             0.000000                 0.000000  \n",
       "25%             0.000000                 0.000000  \n",
       "50%             0.000000                 0.000000  \n",
       "75%             0.000000                 0.000000  \n",
       "max             1.000000                 1.000000  \n",
       "\n",
       "[8 rows x 36 columns]"
      ]
     },
     "execution_count": 454,
     "metadata": {},
     "output_type": "execute_result"
    }
   ],
   "source": [
    "X.describe()"
   ]
  },
  {
   "cell_type": "code",
   "execution_count": 455,
   "metadata": {
    "collapsed": true
   },
   "outputs": [],
   "source": [
    "y_variables = ['$150,000 or more', 'Under $20,000', '$70,000 - $99,999', 'none',\n",
    "               '$40,000 - $49,999', '$50,000 - $69,999', '$100,000 - $149,999',\n",
    "               '$20,000 - $29,999', '$30,000 - $39,999']\n",
    "# Create array of dummies\n",
    "y = pd.get_dummies(y)"
   ]
  },
  {
   "cell_type": "code",
   "execution_count": 456,
   "metadata": {
    "collapsed": false
   },
   "outputs": [],
   "source": [
    "# With the goal above, I will import just what I need. \n",
    "# The model to use (I already imported it above, but will do it again here so each example is self-contained)\n",
    "from sklearn.ensemble import RandomForestRegressor\n",
    "\n",
    "# The error metric. In this case, we will use c-stat (aka ROC/AUC)\n",
    "from sklearn.metrics import roc_auc_score\n",
    "\n",
    "# Let's build our first model. I always have oob_score=True. It is a good idea to increase n_estimators to a number higher than \n",
    "# the default. In this case the oob_predictions will be based on a forest of 33 trees. I set random_state=42 so that you all can\n",
    "# replicate the model exactly.\n",
    "model = RandomForestRegressor(n_estimators=1000, oob_score=True, n_jobs=-1, random_state=42)"
   ]
  },
  {
   "cell_type": "code",
   "execution_count": 457,
   "metadata": {
    "collapsed": false
   },
   "outputs": [
    {
     "name": "stdout",
     "output_type": "stream",
     "text": [
      "C-stat:  0.663004700052\n"
     ]
    }
   ],
   "source": [
    "model.fit(X, y)\n",
    "print \"C-stat: \", roc_auc_score(y, model.oob_prediction_)"
   ]
  },
  {
   "cell_type": "markdown",
   "metadata": {},
   "source": [
    "### Variable Importance Measures"
   ]
  },
  {
   "cell_type": "code",
   "execution_count": 458,
   "metadata": {
    "collapsed": false
   },
   "outputs": [
    {
     "name": "stderr",
     "output_type": "stream",
     "text": [
      "C:\\Users\\Heather\\Anaconda2\\lib\\site-packages\\ipykernel\\__main__.py:3: FutureWarning: sort is deprecated, use sort_values(inplace=True) for for INPLACE sorting\n",
      "  app.launch_new_instance()\n"
     ]
    },
    {
     "data": {
      "image/png": "[encoded data removed]",
      "text/plain": [
       "<matplotlib.figure.Figure at 0xc195ada0>"
      ]
     },
     "metadata": {},
     "output_type": "display_data"
    }
   ],
   "source": [
    "# Simple version that shows all of the variables\n",
    "feature_importances = pd.Series(model.feature_importances_, index=X.columns)\n",
    "feature_importances.sort()\n",
    "feature_importances.plot(kind=\"barh\", figsize=(10,9));"
   ]
  },
  {
   "cell_type": "code",
   "execution_count": 459,
   "metadata": {
    "collapsed": false
   },
   "outputs": [
    {
     "name": "stderr",
     "output_type": "stream",
     "text": [
      "C:\\Users\\Heather\\Anaconda2\\lib\\site-packages\\ipykernel\\__main__.py:41: FutureWarning: sort is deprecated, use sort_values(inplace=True) for for INPLACE sorting\n"
     ]
    },
    {
     "data": {
      "image/png": "[encoded data removed]",
      "text/plain": [
       "<matplotlib.figure.Figure at 0x6db48cf8>"
      ]
     },
     "metadata": {},
     "output_type": "display_data"
    }
   ],
   "source": [
    "# Complex version that shows the summary view\n",
    "\n",
    "def graph_feature_importances(model, feature_names, autoscale=True, headroom=0.05, width=10, summarized_columns=None):\n",
    "    \"\"\"\n",
    "    By Mike Bernico\n",
    "    \n",
    "    Graphs the feature importances of a random decision forest using a horizontal bar chart. \n",
    "    Probably works but untested on other sklearn.ensembles.\n",
    "    \n",
    "    Parameters\n",
    "    ----------\n",
    "    ensemble = Name of the ensemble whose features you would like graphed.\n",
    "    feature_names = A list of the names of those featurs, displayed on the Y axis.\n",
    "    autoscale = True (Automatically adjust the X axis size to the largest feature +.headroom) / False = scale from 0 to 1\n",
    "    headroom = used with autoscale, .05 default\n",
    "    width=figure width in inches\n",
    "    summarized_columns = a list of column prefixes to summarize on, for dummy variables (e.g. [\"day_\"] would summarize all day_ vars\n",
    "    \"\"\"\n",
    "    \n",
    "    if autoscale:\n",
    "        x_scale = model.feature_importances_.max()+ headroom\n",
    "    else:\n",
    "        x_scale = 1\n",
    "    \n",
    "    feature_dict=dict(zip(feature_names, model.feature_importances_))\n",
    "    \n",
    "    if summarized_columns: \n",
    "        #some dummy columns need to be summarized\n",
    "        for col_name in summarized_columns: \n",
    "            #sum all the features that contain col_name, store in temp sum_value\n",
    "            sum_value = sum(x for i, x in feature_dict.iteritems() if col_name in i )  \n",
    "            \n",
    "            #now remove all keys that are part of col_name\n",
    "            keys_to_remove = [i for i in feature_dict.keys() if col_name in i ]\n",
    "            for i in keys_to_remove:\n",
    "                feature_dict.pop(i)\n",
    "            #lastly, read the summarized field\n",
    "            feature_dict[col_name] = sum_value\n",
    "        \n",
    "    results = pd.Series(feature_dict.values(), index=feature_dict.keys())\n",
    "    results.sort(axis=1)\n",
    "    results.plot(kind=\"barh\", figsize=(width,len(results)/4), xlim=(0,x_scale))\n",
    "    \n",
    "graph_feature_importances(model, X.columns, summarized_columns=categorical_variables)"
   ]
  },
  {
   "cell_type": "markdown",
   "metadata": {},
   "source": [
    "# n_estimators\n",
    "    Trying out n_estimators"
   ]
  },
  {
   "cell_type": "code",
   "execution_count": 460,
   "metadata": {
    "collapsed": false
   },
   "outputs": [
    {
     "name": "stdout",
     "output_type": "stream",
     "text": [
      "2000 trees\n",
      "C-stat:  0.662424499845\n",
      "\n",
      "3000 trees\n",
      "C-stat:  0.662165734422\n",
      "\n",
      "4000 trees\n",
      "C-stat:  0.662132050049\n",
      "\n"
     ]
    },
    {
     "data": {
      "image/png": "[encoded data removed]",
      "text/plain": [
       "<matplotlib.figure.Figure at 0x14213160>"
      ]
     },
     "metadata": {},
     "output_type": "display_data"
    }
   ],
   "source": [
    "# Code from Jason Sanchez's Random Forest=Awesome\n",
    "results = []\n",
    "n_estimator_options = [2000, 3000, 4000]\n",
    "\n",
    "for trees in n_estimator_options:\n",
    "    model = RandomForestRegressor(trees, oob_score=True, n_jobs=-1, random_state=42)\n",
    "    model.fit(X, y)\n",
    "    print trees, \"trees\"\n",
    "    roc = roc_auc_score(y, model.oob_prediction_)\n",
    "    print \"C-stat: \", roc\n",
    "    results.append(roc)\n",
    "    print \"\"\n",
    "    \n",
    "pd.Series(results, n_estimator_options).plot();"
   ]
  },
  {
   "cell_type": "markdown",
   "metadata": {},
   "source": [
    "### max_features"
   ]
  },
  {
   "cell_type": "code",
   "execution_count": 461,
   "metadata": {
    "collapsed": false
   },
   "outputs": [
    {
     "name": "stdout",
     "output_type": "stream",
     "text": [
      "auto option\n",
      "C-stat:  0.662424499845\n",
      "\n",
      "None option\n",
      "C-stat:  0.662424499845\n",
      "\n",
      "sqrt option\n",
      "C-stat:  0.662471142605\n",
      "\n",
      "log2 option\n",
      "C-stat:  0.662449855465\n",
      "\n",
      "0.9 option\n",
      "C-stat:  0.662441681507\n",
      "\n",
      "0.2 option\n",
      "C-stat:  0.662426517055\n",
      "\n"
     ]
    },
    {
     "data": {
      "image/png": "[encoded data removed]",
      "text/plain": [
       "<matplotlib.figure.Figure at 0x1078ca6a0>"
      ]
     },
     "metadata": {},
     "output_type": "display_data"
    }
   ],
   "source": [
    "results = []\n",
    "max_features_options = [\"auto\", None, \"sqrt\", \"log2\", 0.9, 0.2]\n",
    "\n",
    "for max_features in max_features_options:\n",
    "    model = RandomForestRegressor(n_estimators=2000, oob_score=True, n_jobs=-1, random_state=42, max_features=max_features)\n",
    "    model.fit(X, y)\n",
    "    print max_features, \"option\"\n",
    "    roc = roc_auc_score(y, model.oob_prediction_)\n",
    "    print \"C-stat: \", roc\n",
    "    results.append(roc)\n",
    "    print \"\"\n",
    "    \n",
    "pd.Series(results, max_features_options).plot(kind=\"barh\", xlim=(.85,.88));"
   ]
  },
  {
   "cell_type": "markdown",
   "metadata": {},
   "source": [
    "### n_samples_leaf"
   ]
  },
  {
   "cell_type": "code",
   "execution_count": 462,
   "metadata": {
    "collapsed": false
   },
   "outputs": [
    {
     "name": "stdout",
     "output_type": "stream",
     "text": [
      "1 min samples\n",
      "C-stat:  0.662424499845\n",
      "\n",
      "2 min samples\n",
      "C-stat:  0.66624553534\n",
      "\n",
      "3 min samples\n",
      "C-stat:  0.668669734957\n",
      "\n",
      "4 min samples\n",
      "C-stat:  0.6705813113\n",
      "\n",
      "5 min samples\n",
      "C-stat:  0.672295739409\n",
      "\n",
      "6 min samples\n",
      "C-stat:  0.673615862264\n",
      "\n",
      "7 min samples\n",
      "C-stat:  0.674736295911\n",
      "\n",
      "8 min samples\n",
      "C-stat:  0.67579498159\n",
      "\n",
      "9 min samples\n",
      "C-stat:  0.676549349705\n",
      "\n",
      "10 min samples\n",
      "C-stat:  0.677201121587\n",
      "\n"
     ]
    },
    {
     "data": {
      "image/png": "[encoded data removed]",
      "text/plain": [
       "<matplotlib.figure.Figure at 0x5ff0ab38>"
      ]
     },
     "metadata": {},
     "output_type": "display_data"
    }
   ],
   "source": [
    "results = []\n",
    "min_samples_leaf_options = [1, 2, 3, 4, 5, 6, 7, 8, 9, 10]\n",
    "\n",
    "for min_samples in min_samples_leaf_options:\n",
    "    model = RandomForestRegressor(n_estimators=2000, \n",
    "                                  oob_score=True, \n",
    "                                  n_jobs=-1, \n",
    "                                  random_state=42, \n",
    "                                  max_features=\"auto\", \n",
    "                                  min_samples_leaf=min_samples)\n",
    "    model.fit(X, y)\n",
    "    print min_samples, \"min samples\"\n",
    "    roc = roc_auc_score(y, model.oob_prediction_)\n",
    "    print \"C-stat: \", roc\n",
    "    results.append(roc)\n",
    "    print \"\"\n",
    "    \n",
    "pd.Series(results, min_samples_leaf_options).plot();"
   ]
  },
  {
   "cell_type": "markdown",
   "metadata": {},
   "source": [
    "# Final Model"
   ]
  },
  {
   "cell_type": "code",
   "execution_count": 468,
   "metadata": {
    "collapsed": false
   },
   "outputs": [
    {
     "name": "stdout",
     "output_type": "stream",
     "text": [
      "C-stat:  0.682604780234\n"
     ]
    }
   ],
   "source": [
    "model = RandomForestRegressor(n_estimators=2000, \n",
    "                              oob_score=True, \n",
    "                              n_jobs=-1, \n",
    "                              random_state=42, \n",
    "                              max_features=\"auto\", \n",
    "                              min_samples_leaf=50)\n",
    "model.fit(X, y)\n",
    "roc = roc_auc_score(y, model.oob_prediction_)\n",
    "print \"C-stat: \", roc"
   ]
  }
 ],
 "metadata": {
  "kernelspec": {
   "display_name": "Python 2",
   "language": "python",
   "name": "python2"
  },
  "language_info": {
   "codemirror_mode": {
    "name": "ipython",
    "version": 2
   },
   "file_extension": ".py",
   "mimetype": "text/x-python",
   "name": "python",
   "nbconvert_exporter": "python",
   "pygments_lexer": "ipython2",
   "version": "2.7.11"
  }
 },
 "nbformat": 4,
 "nbformat_minor": 0
}
